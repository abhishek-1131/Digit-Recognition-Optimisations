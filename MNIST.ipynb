{
 "cells": [
  {
   "cell_type": "code",
   "execution_count": 1,
   "metadata": {
    "ExecuteTime": {
     "end_time": "2019-08-28T10:42:19.954109Z",
     "start_time": "2019-08-28T10:42:07.235240Z"
    }
   },
   "outputs": [],
   "source": [
    "%matplotlib inline\n",
    "import numpy as np\n",
    "import torch\n",
    "import torchvision\n",
    "from torchvision import datasets, transforms\n",
    "from sklearn.metrics import mean_absolute_error\n",
    "from scipy.spatial import distance\n",
    "import scipy\n",
    "import matplotlib.pyplot as plt\n",
    "from sklearn.neighbors import KNeighborsClassifier\n",
    "from sklearn import metrics"
   ]
  },
  {
   "cell_type": "markdown",
   "metadata": {},
   "source": [
    "#### Loading MNIST using Pytorch and processing the images to tensor form"
   ]
  },
  {
   "cell_type": "code",
   "execution_count": 2,
   "metadata": {
    "ExecuteTime": {
     "end_time": "2019-08-28T10:42:19.969691Z",
     "start_time": "2019-08-28T10:42:19.954109Z"
    }
   },
   "outputs": [],
   "source": [
    "transform = transforms.Compose([transforms.ToTensor(),\n",
    "                              transforms.Normalize((0.5,), (0.5,)),\n",
    "                              ])"
   ]
  },
  {
   "cell_type": "code",
   "execution_count": 3,
   "metadata": {
    "ExecuteTime": {
     "end_time": "2019-08-28T10:42:20.297826Z",
     "start_time": "2019-08-28T10:42:19.969691Z"
    }
   },
   "outputs": [],
   "source": [
    "trainset = datasets.MNIST('./data', download=True, train=True, transform=transform)"
   ]
  },
  {
   "cell_type": "code",
   "execution_count": 4,
   "metadata": {
    "ExecuteTime": {
     "end_time": "2019-08-28T10:42:20.344689Z",
     "start_time": "2019-08-28T10:42:20.297826Z"
    }
   },
   "outputs": [],
   "source": [
    "testset = datasets.MNIST('./data', download=True, train=False, transform=transform)"
   ]
  },
  {
   "cell_type": "code",
   "execution_count": 5,
   "metadata": {
    "ExecuteTime": {
     "end_time": "2019-08-28T10:42:20.360318Z",
     "start_time": "2019-08-28T10:42:20.344689Z"
    }
   },
   "outputs": [],
   "source": [
    "trainloader = torch.utils.data.DataLoader(trainset, batch_size = len(trainset))"
   ]
  },
  {
   "cell_type": "code",
   "execution_count": 6,
   "metadata": {
    "ExecuteTime": {
     "end_time": "2019-08-28T10:42:20.375935Z",
     "start_time": "2019-08-28T10:42:20.360318Z"
    }
   },
   "outputs": [],
   "source": [
    "testloader = torch.utils.data.DataLoader(testset, batch_size = len(testset))"
   ]
  },
  {
   "cell_type": "code",
   "execution_count": 7,
   "metadata": {
    "ExecuteTime": {
     "end_time": "2019-08-28T10:42:40.841755Z",
     "start_time": "2019-08-28T10:42:20.375935Z"
    }
   },
   "outputs": [],
   "source": [
    "trainset_array = next(iter(trainloader))[0].numpy()\n"
   ]
  },
  {
   "cell_type": "code",
   "execution_count": 8,
   "metadata": {
    "ExecuteTime": {
     "end_time": "2019-08-28T10:42:44.060536Z",
     "start_time": "2019-08-28T10:42:40.841755Z"
    }
   },
   "outputs": [],
   "source": [
    "testset_array = next(iter(testloader))[0].numpy()"
   ]
  },
  {
   "cell_type": "code",
   "execution_count": 9,
   "metadata": {
    "ExecuteTime": {
     "end_time": "2019-08-28T10:43:06.776585Z",
     "start_time": "2019-08-28T10:42:44.060536Z"
    }
   },
   "outputs": [],
   "source": [
    "trainset_labels_array = next(iter(trainloader))[1].numpy()\n",
    "testset_labels_array = next(iter(testloader))[1].numpy()"
   ]
  },
  {
   "cell_type": "markdown",
   "metadata": {},
   "source": [
    "#### Squashing image pixel values to 1D arrays"
   ]
  },
  {
   "cell_type": "code",
   "execution_count": 10,
   "metadata": {
    "ExecuteTime": {
     "end_time": "2019-08-28T10:43:06.807820Z",
     "start_time": "2019-08-28T10:43:06.776585Z"
    }
   },
   "outputs": [
    {
     "name": "stdout",
     "output_type": "stream",
     "text": [
      "(60000, 784)\n",
      "(10000, 784)\n"
     ]
    }
   ],
   "source": [
    "trainset_array = trainset_array.reshape(60000,784)\n",
    "testset_array = testset_array.reshape(10000,784)\n",
    "print(trainset_array.shape)\n",
    "print(testset_array.shape)"
   ]
  },
  {
   "cell_type": "markdown",
   "metadata": {},
   "source": [
    "#### Finding an image in trainingset which is closest to a selected image from testset, by comparing corresponding pixel values\n",
    "(using euclidean distance as the metric)"
   ]
  },
  {
   "cell_type": "code",
   "execution_count": 11,
   "metadata": {
    "ExecuteTime": {
     "end_time": "2019-08-27T17:22:19.768938Z",
     "start_time": "2019-08-27T17:22:19.737685Z"
    }
   },
   "outputs": [
    {
     "name": "stdout",
     "output_type": "stream",
     "text": [
      "(784,)\n",
      "2\n"
     ]
    }
   ],
   "source": [
    "a = testset_array[1506]\n",
    "print(testset_array[1506].shape)\n",
    "print(testset_labels_array[1506])"
   ]
  },
  {
   "cell_type": "code",
   "execution_count": 12,
   "metadata": {
    "ExecuteTime": {
     "end_time": "2019-08-27T17:22:19.784553Z",
     "start_time": "2019-08-27T17:22:19.768938Z"
    }
   },
   "outputs": [],
   "source": [
    "diff = []"
   ]
  },
  {
   "cell_type": "code",
   "execution_count": 13,
   "metadata": {
    "ExecuteTime": {
     "end_time": "2019-08-27T17:22:21.768939Z",
     "start_time": "2019-08-27T17:22:19.784553Z"
    }
   },
   "outputs": [],
   "source": [
    "for x in trainset_array:\n",
    "    difference = distance.euclidean(x,a)\n",
    "    diff.append(difference)\n"
   ]
  },
  {
   "cell_type": "code",
   "execution_count": 14,
   "metadata": {
    "ExecuteTime": {
     "end_time": "2019-08-27T17:22:21.847063Z",
     "start_time": "2019-08-27T17:22:21.768939Z"
    }
   },
   "outputs": [
    {
     "name": "stdout",
     "output_type": "stream",
     "text": [
      "[20.36130714 21.95580292 21.38853836 ... 23.11495972 20.42109489\n",
      " 20.20189476]\n",
      "9092\n"
     ]
    }
   ],
   "source": [
    "diff = np.asarray(diff)\n",
    "print(diff)\n",
    "print(np.argmin(diff))"
   ]
  },
  {
   "cell_type": "code",
   "execution_count": 15,
   "metadata": {
    "ExecuteTime": {
     "end_time": "2019-08-27T17:22:21.878310Z",
     "start_time": "2019-08-27T17:22:21.847063Z"
    }
   },
   "outputs": [
    {
     "name": "stdout",
     "output_type": "stream",
     "text": [
      "10.263904571533203\n"
     ]
    },
    {
     "data": {
      "text/plain": [
       "2"
      ]
     },
     "execution_count": 15,
     "metadata": {},
     "output_type": "execute_result"
    }
   ],
   "source": [
    "print(diff[9092])\n",
    "trainset_labels_array[9092]"
   ]
  },
  {
   "cell_type": "markdown",
   "metadata": {},
   "source": [
    "#### Finding closest image in training set for each of the images in test set:"
   ]
  },
  {
   "cell_type": "code",
   "execution_count": 11,
   "metadata": {
    "ExecuteTime": {
     "end_time": "2019-08-28T10:43:06.823417Z",
     "start_time": "2019-08-28T10:43:06.807820Z"
    }
   },
   "outputs": [],
   "source": [
    "A = testset_array\n",
    "B = trainset_array\n"
   ]
  },
  {
   "cell_type": "code",
   "execution_count": 12,
   "metadata": {
    "ExecuteTime": {
     "end_time": "2019-08-28T10:43:08.430233Z",
     "start_time": "2019-08-28T10:43:06.823417Z"
    }
   },
   "outputs": [
    {
     "data": {
      "text/plain": [
       "0"
      ]
     },
     "execution_count": 12,
     "metadata": {},
     "output_type": "execute_result"
    }
   ],
   "source": [
    "torch.cuda.current_device()"
   ]
  },
  {
   "cell_type": "code",
   "execution_count": 30,
   "metadata": {
    "ExecuteTime": {
     "end_time": "2019-08-27T18:53:23.946165Z",
     "start_time": "2019-08-27T18:37:24.490706Z"
    }
   },
   "outputs": [],
   "source": [
    "euclid2 = scipy.spatial.distance.cdist(testset_array,trainset_array, 'euclidean')"
   ]
  },
  {
   "cell_type": "code",
   "execution_count": 31,
   "metadata": {
    "ExecuteTime": {
     "end_time": "2019-08-27T18:54:01.939508Z",
     "start_time": "2019-08-27T18:53:59.799632Z"
    }
   },
   "outputs": [
    {
     "data": {
      "text/plain": [
       "array([[18.79055456, 20.78925739, 18.88084918, ..., 18.93491568,\n",
       "        19.0677718 , 18.44621526],\n",
       "       [22.36598876, 22.90207505, 23.31384537, ..., 22.5202218 ,\n",
       "        20.9281653 , 21.18703599],\n",
       "       [18.44753246, 20.15256547, 18.30636641, ..., 18.512843  ,\n",
       "        16.88555337, 16.7824208 ],\n",
       "       ...,\n",
       "       [20.60834134, 22.96929946, 21.01032   , ..., 19.97371444,\n",
       "        20.62248071, 19.39657963],\n",
       "       [21.12529775, 20.87040117, 22.02432   , ..., 20.81291274,\n",
       "        18.17330736, 18.4887535 ],\n",
       "       [23.09129378, 19.70702767, 25.11464906, ..., 24.24375395,\n",
       "        16.17990557, 23.2891037 ]])"
      ]
     },
     "execution_count": 31,
     "metadata": {},
     "output_type": "execute_result"
    }
   ],
   "source": [
    "euclid2"
   ]
  },
  {
   "cell_type": "code",
   "execution_count": 13,
   "metadata": {
    "ExecuteTime": {
     "end_time": "2019-08-28T10:51:52.394867Z",
     "start_time": "2019-08-28T10:51:52.207404Z"
    }
   },
   "outputs": [
    {
     "ename": "MemoryError",
     "evalue": "",
     "output_type": "error",
     "traceback": [
      "\u001b[1;31m---------------------------------------------------------------------------\u001b[0m",
      "\u001b[1;31mMemoryError\u001b[0m                               Traceback (most recent call last)",
      "\u001b[1;32m<ipython-input-13-9f353d3fb474>\u001b[0m in \u001b[0;36m<module>\u001b[1;34m\u001b[0m\n\u001b[1;32m----> 1\u001b[1;33m \u001b[0meuclid\u001b[0m \u001b[1;33m=\u001b[0m \u001b[0mnp\u001b[0m\u001b[1;33m.\u001b[0m\u001b[0msqrt\u001b[0m\u001b[1;33m(\u001b[0m\u001b[0mnp\u001b[0m\u001b[1;33m.\u001b[0m\u001b[0msum\u001b[0m\u001b[1;33m(\u001b[0m\u001b[0mnp\u001b[0m\u001b[1;33m.\u001b[0m\u001b[0msquare\u001b[0m\u001b[1;33m(\u001b[0m\u001b[0mA\u001b[0m\u001b[1;33m[\u001b[0m\u001b[1;33m:\u001b[0m\u001b[1;33m,\u001b[0m\u001b[0mnp\u001b[0m\u001b[1;33m.\u001b[0m\u001b[0mnewaxis\u001b[0m\u001b[1;33m,\u001b[0m\u001b[1;33m:\u001b[0m\u001b[1;33m]\u001b[0m \u001b[1;33m-\u001b[0m \u001b[0mB\u001b[0m\u001b[1;33m)\u001b[0m\u001b[1;33m,\u001b[0m \u001b[0maxis\u001b[0m\u001b[1;33m=\u001b[0m\u001b[1;36m2\u001b[0m\u001b[1;33m)\u001b[0m\u001b[1;33m)\u001b[0m\u001b[1;33m\u001b[0m\u001b[1;33m\u001b[0m\u001b[0m\n\u001b[0m\u001b[0;32m      2\u001b[0m \u001b[0meuclid\u001b[0m\u001b[1;33m\u001b[0m\u001b[1;33m\u001b[0m\u001b[0m\n",
      "\u001b[1;31mMemoryError\u001b[0m: "
     ]
    }
   ],
   "source": [
    "euclid = np.sqrt(np.sum(np.square(A[:,np.newaxis,:] - B), axis=2))\n",
    "euclid"
   ]
  },
  {
   "cell_type": "code",
   "execution_count": 18,
   "metadata": {
    "ExecuteTime": {
     "end_time": "2019-08-27T17:22:46.454167Z",
     "start_time": "2019-08-27T17:22:23.373251Z"
    }
   },
   "outputs": [
    {
     "data": {
      "text/plain": [
       "array([[18.790552, 20.789257, 18.880846, ..., 18.934917, 19.067772,\n",
       "        18.446215],\n",
       "       [22.365992, 22.902077, 23.313847, ..., 22.520222, 20.928165,\n",
       "        21.187037],\n",
       "       [18.44753 , 20.152567, 18.306366, ..., 18.512846, 16.885553,\n",
       "        16.782421],\n",
       "       ...,\n",
       "       [20.60834 , 22.969301, 21.010323, ..., 19.973719, 20.622482,\n",
       "        19.396578],\n",
       "       [21.125296, 20.870401, 22.024317, ..., 20.812914, 18.173307,\n",
       "        18.48875 ],\n",
       "       [23.091295, 19.707027, 25.114649, ..., 24.243755, 16.179907,\n",
       "        23.289103]], dtype=float32)"
      ]
     },
     "execution_count": 18,
     "metadata": {},
     "output_type": "execute_result"
    }
   ],
   "source": [
    "euclid1 = np.sum(np.square(A)[:,np.newaxis,:], axis=2) - 2 * A.dot(B.T) + np.sum(np.square(B), axis=1)\n",
    "dist = np.sqrt(euclid1)\n",
    "dist"
   ]
  },
  {
   "cell_type": "code",
   "execution_count": 19,
   "metadata": {
    "ExecuteTime": {
     "end_time": "2019-08-27T16:20:35.421212Z",
     "start_time": "2019-08-27T16:20:35.358721Z"
    }
   },
   "outputs": [
    {
     "data": {
      "text/plain": [
       "(10000, 60000)"
      ]
     },
     "execution_count": 19,
     "metadata": {},
     "output_type": "execute_result"
    }
   ],
   "source": [
    "dist.shape"
   ]
  },
  {
   "cell_type": "code",
   "execution_count": 20,
   "metadata": {
    "ExecuteTime": {
     "end_time": "2019-08-27T16:20:35.452460Z",
     "start_time": "2019-08-27T16:20:35.421212Z"
    }
   },
   "outputs": [
    {
     "data": {
      "text/plain": [
       "(60000,)"
      ]
     },
     "execution_count": 20,
     "metadata": {},
     "output_type": "execute_result"
    }
   ],
   "source": [
    "dist[1].shape"
   ]
  },
  {
   "cell_type": "code",
   "execution_count": 21,
   "metadata": {
    "ExecuteTime": {
     "end_time": "2019-08-27T16:20:35.499342Z",
     "start_time": "2019-08-27T16:20:35.452460Z"
    }
   },
   "outputs": [
    {
     "name": "stdout",
     "output_type": "stream",
     "text": [
      "12.449959\n",
      "37608\n",
      "8\n"
     ]
    }
   ],
   "source": [
    "dist_eg1 = dist[486]\n",
    "print(np.min(dist_eg1))\n",
    "print(np.argmin(dist_eg1))\n",
    "print(testset_labels_array[486])"
   ]
  },
  {
   "cell_type": "code",
   "execution_count": 22,
   "metadata": {
    "ExecuteTime": {
     "end_time": "2019-08-27T16:20:35.514987Z",
     "start_time": "2019-08-27T16:20:35.499342Z"
    }
   },
   "outputs": [
    {
     "name": "stdout",
     "output_type": "stream",
     "text": [
      "8\n"
     ]
    }
   ],
   "source": [
    "print(trainset_labels_array[37608])"
   ]
  },
  {
   "cell_type": "code",
   "execution_count": 23,
   "metadata": {
    "ExecuteTime": {
     "end_time": "2019-08-27T16:20:35.546214Z",
     "start_time": "2019-08-27T16:20:35.530635Z"
    }
   },
   "outputs": [
    {
     "name": "stdout",
     "output_type": "stream",
     "text": [
      "6.073906\n",
      "3487\n",
      "1\n"
     ]
    }
   ],
   "source": [
    "dist_eg1 = dist[9643]\n",
    "print(np.min(dist_eg1))\n",
    "print(np.argmin(dist_eg1))\n",
    "print(testset_labels_array[9643])"
   ]
  },
  {
   "cell_type": "code",
   "execution_count": 24,
   "metadata": {
    "ExecuteTime": {
     "end_time": "2019-08-27T16:20:35.561842Z",
     "start_time": "2019-08-27T16:20:35.546214Z"
    }
   },
   "outputs": [
    {
     "name": "stdout",
     "output_type": "stream",
     "text": [
      "1\n"
     ]
    }
   ],
   "source": [
    "print(trainset_labels_array[3487])"
   ]
  },
  {
   "cell_type": "code",
   "execution_count": 25,
   "metadata": {
    "ExecuteTime": {
     "end_time": "2019-08-27T16:20:37.697539Z",
     "start_time": "2019-08-27T16:20:35.561842Z"
    }
   },
   "outputs": [],
   "source": [
    "losses_min = []\n",
    "losses_min_index = []\n",
    "for x in dist:\n",
    "    loss_min = np.min(x)\n",
    "    losses_min.append(loss_min)\n",
    "    loss_min_index = np.argmin(x)\n",
    "    losses_min_index.append(loss_min_index)"
   ]
  },
  {
   "cell_type": "markdown",
   "metadata": {},
   "source": [
    "#### Assigning random labels to training set and evaluating"
   ]
  },
  {
   "cell_type": "code",
   "execution_count": 26,
   "metadata": {
    "ExecuteTime": {
     "end_time": "2019-08-27T16:20:37.806986Z",
     "start_time": "2019-08-27T16:20:37.697539Z"
    }
   },
   "outputs": [],
   "source": [
    "array_random = [0,1,2,3,4,5,6,7,8,9]\n",
    "labels_random = np.random.choice(array_random,60000)"
   ]
  },
  {
   "cell_type": "code",
   "execution_count": 27,
   "metadata": {
    "ExecuteTime": {
     "end_time": "2019-08-27T16:20:37.822552Z",
     "start_time": "2019-08-27T16:20:37.806986Z"
    }
   },
   "outputs": [
    {
     "data": {
      "text/plain": [
       "(10000, 60000)"
      ]
     },
     "execution_count": 27,
     "metadata": {},
     "output_type": "execute_result"
    }
   ],
   "source": [
    "dist.shape"
   ]
  },
  {
   "cell_type": "code",
   "execution_count": null,
   "metadata": {},
   "outputs": [],
   "source": []
  },
  {
   "cell_type": "markdown",
   "metadata": {},
   "source": [
    "#### Applying KNN using Scikit"
   ]
  },
  {
   "cell_type": "code",
   "execution_count": 28,
   "metadata": {
    "ExecuteTime": {
     "end_time": "2019-08-27T16:21:43.701137Z",
     "start_time": "2019-08-27T16:20:37.822552Z"
    }
   },
   "outputs": [
    {
     "data": {
      "text/plain": [
       "KNeighborsClassifier(algorithm='auto', leaf_size=30, metric='minkowski',\n",
       "                     metric_params=None, n_jobs=None, n_neighbors=3, p=2,\n",
       "                     weights='uniform')"
      ]
     },
     "execution_count": 28,
     "metadata": {},
     "output_type": "execute_result"
    }
   ],
   "source": [
    "knn = KNeighborsClassifier(n_neighbors=3)\n",
    "knn.fit(trainset_array, trainset_labels_array)\n"
   ]
  },
  {
   "cell_type": "code",
   "execution_count": 29,
   "metadata": {
    "ExecuteTime": {
     "end_time": "2019-08-27T16:43:20.396534Z",
     "start_time": "2019-08-27T16:21:43.701137Z"
    }
   },
   "outputs": [],
   "source": [
    "ypred = knn.predict(testset_array)"
   ]
  },
  {
   "cell_type": "code",
   "execution_count": 30,
   "metadata": {
    "ExecuteTime": {
     "end_time": "2019-08-27T16:43:20.620534Z",
     "start_time": "2019-08-27T16:43:20.436533Z"
    }
   },
   "outputs": [
    {
     "name": "stdout",
     "output_type": "stream",
     "text": [
      "0.9705\n"
     ]
    }
   ],
   "source": [
    "print(metrics.accuracy_score(testset_labels_array, ypred))"
   ]
  },
  {
   "cell_type": "code",
   "execution_count": 31,
   "metadata": {
    "ExecuteTime": {
     "end_time": "2019-08-27T16:43:20.658533Z",
     "start_time": "2019-08-27T16:43:20.624533Z"
    }
   },
   "outputs": [
    {
     "name": "stdout",
     "output_type": "stream",
     "text": [
      "6\n",
      "6\n"
     ]
    }
   ],
   "source": [
    "print(ypred[5034])\n",
    "print(testset_labels_array[5034])"
   ]
  },
  {
   "cell_type": "markdown",
   "metadata": {},
   "source": [
    "k_range = range(3,8)\n",
    "scores = {}\n",
    "scores_list = []\n",
    "for k in tqdm(k_range):\n",
    "    knn_range = KNeighborsClassifier(n_neighbors=k)\n",
    "    knn_range.fit(trainset_array, trainset_labels_array)\n",
    "    y_pred = knn_range.predict(testset_array)\n",
    "    scores[k] = metrics.accuracy_score(testset_labels_array, y_pred)\n",
    "    scores_list.append(metrics.accuracy_score(testset_labels_array,y_pred))\n",
    "\n",
    "update_progress(1)\n"
   ]
  },
  {
   "cell_type": "code",
   "execution_count": 32,
   "metadata": {
    "ExecuteTime": {
     "end_time": "2019-08-27T16:44:27.765131Z",
     "start_time": "2019-08-27T16:43:20.662535Z"
    }
   },
   "outputs": [
    {
     "data": {
      "text/plain": [
       "KNeighborsClassifier(algorithm='auto', leaf_size=30, metric='minkowski',\n",
       "                     metric_params=None, n_jobs=None, n_neighbors=5, p=2,\n",
       "                     weights='uniform')"
      ]
     },
     "execution_count": 32,
     "metadata": {},
     "output_type": "execute_result"
    }
   ],
   "source": [
    "knn1 = KNeighborsClassifier(n_neighbors=5)\n",
    "knn1.fit(trainset_array, trainset_labels_array)"
   ]
  },
  {
   "cell_type": "code",
   "execution_count": 33,
   "metadata": {
    "ExecuteTime": {
     "end_time": "2019-08-27T17:05:18.895161Z",
     "start_time": "2019-08-27T16:44:27.769136Z"
    }
   },
   "outputs": [],
   "source": [
    "ypred1 = knn1.predict(testset_array)"
   ]
  },
  {
   "cell_type": "code",
   "execution_count": 34,
   "metadata": {
    "ExecuteTime": {
     "end_time": "2019-08-27T17:05:18.910781Z",
     "start_time": "2019-08-27T17:05:18.895161Z"
    }
   },
   "outputs": [
    {
     "name": "stdout",
     "output_type": "stream",
     "text": [
      "0.9688\n"
     ]
    }
   ],
   "source": [
    "print(metrics.accuracy_score(testset_labels_array, ypred1))"
   ]
  },
  {
   "cell_type": "code",
   "execution_count": null,
   "metadata": {},
   "outputs": [],
   "source": []
  }
 ],
 "metadata": {
  "kernelspec": {
   "display_name": "Python 3",
   "language": "python",
   "name": "python3"
  },
  "language_info": {
   "codemirror_mode": {
    "name": "ipython",
    "version": 3
   },
   "file_extension": ".py",
   "mimetype": "text/x-python",
   "name": "python",
   "nbconvert_exporter": "python",
   "pygments_lexer": "ipython3",
   "version": "3.7.3"
  }
 },
 "nbformat": 4,
 "nbformat_minor": 2
}
